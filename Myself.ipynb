{
 "cells": [
  {
   "cell_type": "code",
   "execution_count": 2,
   "id": "cc4ee11d",
   "metadata": {},
   "outputs": [
    {
     "name": "stdout",
     "output_type": "stream",
     "text": [
      "\t\t\t\t\t😀 Something about My self😀\n",
      "\t😃 Hello everyone I am Nikhil Chavan.😃🥰 I live in join family.🥰😇 My fathers name is Sudhir.😇😀 My mother name is Shraddha.😀 🤠 I have a younger brother and his name is Mayuresh.🤠😊🎓 I have completed my graduation in Bachelor of science in Information technology at Ratnagiri from mumbai university in 2021.🎓😊\n",
      "\t🏫 I corrently lived in Mumbai🏫😍 I love to drive bike.😍🥰 I like travelling to new placess🥰🏊 I like Swimming.🏊.🤾 I like to play Volleyball.🤾"
     ]
    }
   ],
   "source": [
    "print(\"\\t\\t\\t\\t\\t\\U0001f600 Something about My self\\U0001f600\")\n",
    "print(\"\\t\\U0001f603 Hello everyone I am Nikhil Chavan.\\U0001f603\", end=\"\")\n",
    "print(\"\\U0001f970 I live in join family.\\U0001f970\", end=\"\")\n",
    "print(\"\\U0001f607 My fathers name is Sudhir.\\U0001f607\", end=\"\")\n",
    "print(\"\\U0001f600 My mother name is Shraddha.\\U0001f600 \", end=\"\")\n",
    "print(\"\\U0001f920 I have a younger brother and his name is Mayuresh.\\U0001f920\", end=\"\")\n",
    "print(\"\\U0001f60a\\U0001f393 I have completed my graduation in Bachelor of science in Information technology at Ratnagiri from mumbai university in 2021.\\U0001f393\\U0001f60a\", end=\"\")\n",
    "print(\"\\n\\t\\U0001f3eb I corrently lived in Mumbai\\U0001f3eb\",end=\"\")\n",
    "print(\"\\U0001f60d I love to drive bike.\\U0001f60d\",end=\"\")\n",
    "print(\"\\U0001f970 I like travelling to new placess\\U0001f970\",end=\"\")\n",
    "print(\"\\U0001F3CA I like Swimming.\\U0001F3CA.\",end=\"\")\n",
    "print(\"\\U0001F93E I like to play Volleyball.\\U0001F93E\",end=\"\")"
   ]
  },
  {
   "cell_type": "code",
   "execution_count": null,
   "id": "456d892f",
   "metadata": {},
   "outputs": [],
   "source": []
  },
  {
   "cell_type": "code",
   "execution_count": null,
   "id": "ccebcba1",
   "metadata": {},
   "outputs": [],
   "source": []
  },
  {
   "cell_type": "code",
   "execution_count": null,
   "id": "59f78a95",
   "metadata": {},
   "outputs": [],
   "source": []
  },
  {
   "cell_type": "code",
   "execution_count": null,
   "id": "ff92b9cd",
   "metadata": {},
   "outputs": [],
   "source": []
  }
 ],
 "metadata": {
  "kernelspec": {
   "display_name": "Python 3 (ipykernel)",
   "language": "python",
   "name": "python3"
  },
  "language_info": {
   "codemirror_mode": {
    "name": "ipython",
    "version": 3
   },
   "file_extension": ".py",
   "mimetype": "text/x-python",
   "name": "python",
   "nbconvert_exporter": "python",
   "pygments_lexer": "ipython3",
   "version": "3.9.7"
  }
 },
 "nbformat": 4,
 "nbformat_minor": 5
}
